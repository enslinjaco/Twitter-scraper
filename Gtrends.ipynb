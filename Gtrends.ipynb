{
 "cells": [
  {
   "cell_type": "code",
   "execution_count": 4,
   "metadata": {},
   "outputs": [],
   "source": [
    "import pandas as pd                        \n",
    "from pytrends.request import TrendReq\n",
    "pytrend = TrendReq(retries=10, backoff_factor=0.5)\n",
    "import time\n",
    "startTime = time.time()"
   ]
  },
  {
   "cell_type": "code",
   "execution_count": 4,
   "metadata": {},
   "outputs": [
    {
     "name": "stdout",
     "output_type": "stream",
     "text": [
      "                                 0\n",
      "0                         February\n",
      "1                       Jacob Zuma\n",
      "2                          Myanmar\n",
      "3                   Gwede Mantashe\n",
      "4                             Roma\n",
      "5                     Harry Styles\n",
      "6              AstraZeneca vaccine\n",
      "7                       Ozan Kabak\n",
      "8                           Mooted\n",
      "9                     Silver price\n",
      "10                    Wolfsburg FC\n",
      "11              Alcohol ban lifted\n",
      "12           Brighton vs Tottenham\n",
      "13           West Ham vs Liverpool\n",
      "14      Barcelona vs Athletic Club\n",
      "15                        Sundowns\n",
      "16              Chelsea vs Burnley\n",
      "17               Royal Rumble 2021\n",
      "18  Leicester City vs Leeds United\n",
      "19                             PSG\n"
     ]
    }
   ],
   "source": [
    "##Trending searches per geography\n",
    "trending_searches_df = pytrend.trending_searches(pn='south_africa')\n",
    "print(trending_searches_df.head(20))"
   ]
  },
  {
   "cell_type": "code",
   "execution_count": 10,
   "metadata": {},
   "outputs": [
    {
     "data": {
      "text/html": [
       "<div>\n",
       "<style scoped>\n",
       "    .dataframe tbody tr th:only-of-type {\n",
       "        vertical-align: middle;\n",
       "    }\n",
       "\n",
       "    .dataframe tbody tr th {\n",
       "        vertical-align: top;\n",
       "    }\n",
       "\n",
       "    .dataframe thead th {\n",
       "        text-align: right;\n",
       "    }\n",
       "</style>\n",
       "<table border=\"1\" class=\"dataframe\">\n",
       "  <thead>\n",
       "    <tr style=\"text-align: right;\">\n",
       "      <th></th>\n",
       "      <th>title</th>\n",
       "      <th>type</th>\n",
       "    </tr>\n",
       "  </thead>\n",
       "  <tbody>\n",
       "    <tr>\n",
       "      <th>0</th>\n",
       "      <td>Paper</td>\n",
       "      <td>Topic</td>\n",
       "    </tr>\n",
       "    <tr>\n",
       "      <th>1</th>\n",
       "      <td>Packaging and labeling</td>\n",
       "      <td>Topic</td>\n",
       "    </tr>\n",
       "    <tr>\n",
       "      <th>2</th>\n",
       "      <td>Paper bag</td>\n",
       "      <td>Topic</td>\n",
       "    </tr>\n",
       "    <tr>\n",
       "      <th>3</th>\n",
       "      <td>Label</td>\n",
       "      <td>Topic</td>\n",
       "    </tr>\n",
       "    <tr>\n",
       "      <th>4</th>\n",
       "      <td>Kraft paper</td>\n",
       "      <td>Topic</td>\n",
       "    </tr>\n",
       "  </tbody>\n",
       "</table>\n",
       "</div>"
      ],
      "text/plain": [
       "                    title   type\n",
       "0                   Paper  Topic\n",
       "1  Packaging and labeling  Topic\n",
       "2               Paper bag  Topic\n",
       "3                   Label  Topic\n",
       "4             Kraft paper  Topic"
      ]
     },
     "execution_count": 10,
     "metadata": {},
     "output_type": "execute_result"
    }
   ],
   "source": [
    "# Get Google Keyword Suggestions\n",
    "keywords = pytrend.suggestions(keyword='Paper packaging')\n",
    "df = pd.DataFrame(keywords)\n",
    "df.drop(columns= 'mid')   # This column makes no sense"
   ]
  },
  {
   "cell_type": "code",
   "execution_count": null,
   "metadata": {},
   "outputs": [],
   "source": [
    "#Create list of everything that needs to be screened\n",
    "\n",
    "screenlist = [\"furniture\", \"newspaper\", \"playstation\", \"airfryer\"]"
   ]
  },
  {
   "cell_type": "code",
   "execution_count": 2,
   "metadata": {},
   "outputs": [
    {
     "ename": "SyntaxError",
     "evalue": "invalid syntax (<ipython-input-2-02a851738a70>, line 2)",
     "output_type": "error",
     "traceback": [
      "\u001b[1;36m  File \u001b[1;32m\"<ipython-input-2-02a851738a70>\"\u001b[1;36m, line \u001b[1;32m2\u001b[0m\n\u001b[1;33m    searcher(keyword):\u001b[0m\n\u001b[1;37m                      ^\u001b[0m\n\u001b[1;31mSyntaxError\u001b[0m\u001b[1;31m:\u001b[0m invalid syntax\n"
     ]
    }
   ],
   "source": [
    "#Run search\n",
    "searcher(keyword):\n",
    "    pytrend.build_payload(kw_list=['keyword'])\n",
    "    interest_over_time_df = pytrend.interest_over_time()"
   ]
  },
  {
   "cell_type": "code",
   "execution_count": 29,
   "metadata": {},
   "outputs": [],
   "source": [
    "# Create payload and capture API tokens. Only needed for interest_over_time(), interest_by_region() &amp; related_queries()\n",
    "kw_list = [\"Toolstation\"]\n",
    "pytrend.build_payload(kw_list, timeframe='2018-01-01 2021-04-08',\n",
    "     geo='GB-ENG' )\n"
   ]
  },
  {
   "cell_type": "code",
   "execution_count": 30,
   "metadata": {},
   "outputs": [
    {
     "name": "stdout",
     "output_type": "stream",
     "text": [
      "            Toolstation  isPartial\n",
      "date                              \n",
      "2018-01-07           27      False\n",
      "2018-01-14           26      False\n",
      "2018-01-21           23      False\n",
      "2018-01-28           28      False\n",
      "2018-02-04           30      False\n",
      "...                 ...        ...\n",
      "2021-03-07           75      False\n",
      "2021-03-14           76      False\n",
      "2021-03-21           85      False\n",
      "2021-03-28           92      False\n",
      "2021-04-04           83      False\n",
      "\n",
      "[170 rows x 2 columns]\n"
     ]
    }
   ],
   "source": [
    "# Interest Over Time\n",
    "interest_over_time_df = pytrend.interest_over_time()\n",
    "print(interest_over_time_df.tail(200))"
   ]
  },
  {
   "cell_type": "code",
   "execution_count": 31,
   "metadata": {},
   "outputs": [],
   "source": [
    "interest_over_time_df.to_csv('Toolstation.csv')"
   ]
  },
  {
   "cell_type": "code",
   "execution_count": 5,
   "metadata": {},
   "outputs": [
    {
     "name": "stdout",
     "output_type": "stream",
     "text": [
      "                      skateboarding\n",
      "geoName                            \n",
      "Australia                       100\n",
      "New Zealand                      98\n",
      "United States                    92\n",
      "Canada                           79\n",
      "United Kingdom                   70\n",
      "South Africa                     53\n",
      "Costa Rica                       53\n",
      "Finland                          48\n",
      "Singapore                        45\n",
      "Philippines                      44\n",
      "Ireland                          41\n",
      "Norway                           38\n",
      "Denmark                          37\n",
      "Czechia                          37\n",
      "Sweden                           32\n",
      "Guatemala                        30\n",
      "Belgium                          29\n",
      "Netherlands                      27\n",
      "Switzerland                      25\n",
      "United Arab Emirates             25\n"
     ]
    }
   ],
   "source": [
    "# Interest by Region\n",
    "interest_by_region_df = pytrend.interest_by_region()\n",
    "print(interest_by_region_df.sort_values(['skateboarding'], ascending=False).head(20))"
   ]
  },
  {
   "cell_type": "code",
   "execution_count": null,
   "metadata": {},
   "outputs": [],
   "source": [
    "# Related Queries, returns a dictionary of dataframes\n",
    "related_queries_dict = pytrend.related_queries()\n",
    "print(related_queries_dict['coronavirus']['top'].head(20))\n",
    "print(related_queries_dict['coronavirus']['rising'].head(20))"
   ]
  },
  {
   "cell_type": "code",
   "execution_count": 38,
   "metadata": {},
   "outputs": [],
   "source": [
    "#Do the search\n",
    "colnames = [\"keywords\"]\n",
    "df = pd.read_csv(\"keyword_list.csv\", names=colnames, encoding= 'unicode_escape')\n",
    "df2 = df[\"keywords\"].values.tolist()\n",
    "df2.remove(\"keywords\")\n",
    "\n",
    "\n",
    "dataset = []\n",
    "\n",
    "for x in range(0,len(df2)):\n",
    "    #try:\n",
    "     keywords = [df2[x]]\n",
    "     pytrend.build_payload(\n",
    "     kw_list=keywords,\n",
    "     cat=0,\n",
    "     timeframe='2019-01-01 2021-06-28', #yyyymmdd\n",
    "     geo='',\n",
    "     gprop = '')\n",
    "     data = pytrend.interest_over_time()\n",
    "     if not data.empty:\n",
    "          data = data.drop(labels=['isPartial'],axis='columns')\n",
    "          dataset.append(data)\n",
    "   # except requests.exceptions.Timeout:\n",
    "        "
   ]
  },
  {
   "cell_type": "code",
   "execution_count": 39,
   "metadata": {},
   "outputs": [
    {
     "data": {
      "text/html": [
       "<div>\n",
       "<style scoped>\n",
       "    .dataframe tbody tr th:only-of-type {\n",
       "        vertical-align: middle;\n",
       "    }\n",
       "\n",
       "    .dataframe tbody tr th {\n",
       "        vertical-align: top;\n",
       "    }\n",
       "\n",
       "    .dataframe thead th {\n",
       "        text-align: right;\n",
       "    }\n",
       "</style>\n",
       "<table border=\"1\" class=\"dataframe\">\n",
       "  <thead>\n",
       "    <tr style=\"text-align: right;\">\n",
       "      <th></th>\n",
       "      <th>Adaltis</th>\n",
       "      <th>furniture</th>\n",
       "      <th>Audi</th>\n",
       "      <th>Armor Minerals</th>\n",
       "      <th>Allana Potash</th>\n",
       "      <th>Potash</th>\n",
       "      <th>AAER</th>\n",
       "      <th>Aastra Technologies</th>\n",
       "      <th>Advantage Lithium</th>\n",
       "      <th>lithium</th>\n",
       "      <th>...</th>\n",
       "      <th>Nautilus</th>\n",
       "      <th>Banting</th>\n",
       "      <th>Air Canada</th>\n",
       "      <th>Westjet</th>\n",
       "      <th>DSTV</th>\n",
       "      <th>Fiber</th>\n",
       "      <th>Purple Bricks</th>\n",
       "      <th>wickes</th>\n",
       "      <th>Travis Perkins</th>\n",
       "      <th>Toolstation</th>\n",
       "    </tr>\n",
       "    <tr>\n",
       "      <th>date</th>\n",
       "      <th></th>\n",
       "      <th></th>\n",
       "      <th></th>\n",
       "      <th></th>\n",
       "      <th></th>\n",
       "      <th></th>\n",
       "      <th></th>\n",
       "      <th></th>\n",
       "      <th></th>\n",
       "      <th></th>\n",
       "      <th></th>\n",
       "      <th></th>\n",
       "      <th></th>\n",
       "      <th></th>\n",
       "      <th></th>\n",
       "      <th></th>\n",
       "      <th></th>\n",
       "      <th></th>\n",
       "      <th></th>\n",
       "      <th></th>\n",
       "      <th></th>\n",
       "    </tr>\n",
       "  </thead>\n",
       "  <tbody>\n",
       "    <tr>\n",
       "      <th>2019-01-06</th>\n",
       "      <td>0</td>\n",
       "      <td>67</td>\n",
       "      <td>82</td>\n",
       "      <td>0</td>\n",
       "      <td>0</td>\n",
       "      <td>50</td>\n",
       "      <td>76</td>\n",
       "      <td>0</td>\n",
       "      <td>100</td>\n",
       "      <td>67</td>\n",
       "      <td>...</td>\n",
       "      <td>97</td>\n",
       "      <td>72</td>\n",
       "      <td>68</td>\n",
       "      <td>84</td>\n",
       "      <td>45</td>\n",
       "      <td>58</td>\n",
       "      <td>58</td>\n",
       "      <td>28</td>\n",
       "      <td>38</td>\n",
       "      <td>31</td>\n",
       "    </tr>\n",
       "    <tr>\n",
       "      <th>2019-01-13</th>\n",
       "      <td>0</td>\n",
       "      <td>67</td>\n",
       "      <td>85</td>\n",
       "      <td>0</td>\n",
       "      <td>0</td>\n",
       "      <td>38</td>\n",
       "      <td>75</td>\n",
       "      <td>99</td>\n",
       "      <td>66</td>\n",
       "      <td>64</td>\n",
       "      <td>...</td>\n",
       "      <td>100</td>\n",
       "      <td>76</td>\n",
       "      <td>61</td>\n",
       "      <td>75</td>\n",
       "      <td>42</td>\n",
       "      <td>58</td>\n",
       "      <td>73</td>\n",
       "      <td>30</td>\n",
       "      <td>40</td>\n",
       "      <td>34</td>\n",
       "    </tr>\n",
       "    <tr>\n",
       "      <th>2019-01-20</th>\n",
       "      <td>0</td>\n",
       "      <td>67</td>\n",
       "      <td>85</td>\n",
       "      <td>0</td>\n",
       "      <td>0</td>\n",
       "      <td>58</td>\n",
       "      <td>37</td>\n",
       "      <td>0</td>\n",
       "      <td>8</td>\n",
       "      <td>66</td>\n",
       "      <td>...</td>\n",
       "      <td>90</td>\n",
       "      <td>75</td>\n",
       "      <td>63</td>\n",
       "      <td>74</td>\n",
       "      <td>42</td>\n",
       "      <td>54</td>\n",
       "      <td>67</td>\n",
       "      <td>29</td>\n",
       "      <td>38</td>\n",
       "      <td>33</td>\n",
       "    </tr>\n",
       "    <tr>\n",
       "      <th>2019-01-27</th>\n",
       "      <td>41</td>\n",
       "      <td>66</td>\n",
       "      <td>83</td>\n",
       "      <td>0</td>\n",
       "      <td>0</td>\n",
       "      <td>67</td>\n",
       "      <td>55</td>\n",
       "      <td>0</td>\n",
       "      <td>41</td>\n",
       "      <td>63</td>\n",
       "      <td>...</td>\n",
       "      <td>83</td>\n",
       "      <td>65</td>\n",
       "      <td>64</td>\n",
       "      <td>77</td>\n",
       "      <td>45</td>\n",
       "      <td>55</td>\n",
       "      <td>73</td>\n",
       "      <td>28</td>\n",
       "      <td>39</td>\n",
       "      <td>33</td>\n",
       "    </tr>\n",
       "    <tr>\n",
       "      <th>2019-02-03</th>\n",
       "      <td>40</td>\n",
       "      <td>68</td>\n",
       "      <td>84</td>\n",
       "      <td>0</td>\n",
       "      <td>0</td>\n",
       "      <td>78</td>\n",
       "      <td>73</td>\n",
       "      <td>0</td>\n",
       "      <td>16</td>\n",
       "      <td>65</td>\n",
       "      <td>...</td>\n",
       "      <td>78</td>\n",
       "      <td>76</td>\n",
       "      <td>63</td>\n",
       "      <td>74</td>\n",
       "      <td>49</td>\n",
       "      <td>55</td>\n",
       "      <td>84</td>\n",
       "      <td>33</td>\n",
       "      <td>37</td>\n",
       "      <td>34</td>\n",
       "    </tr>\n",
       "  </tbody>\n",
       "</table>\n",
       "<p>5 rows × 167 columns</p>\n",
       "</div>"
      ],
      "text/plain": [
       "            Adaltis  furniture  Audi  Armor Minerals  Allana Potash  Potash  \\\n",
       "date                                                                          \n",
       "2019-01-06        0         67    82               0              0      50   \n",
       "2019-01-13        0         67    85               0              0      38   \n",
       "2019-01-20        0         67    85               0              0      58   \n",
       "2019-01-27       41         66    83               0              0      67   \n",
       "2019-02-03       40         68    84               0              0      78   \n",
       "\n",
       "            AAER  Aastra Technologies  Advantage Lithium  lithium  ...  \\\n",
       "date                                                               ...   \n",
       "2019-01-06    76                    0                100       67  ...   \n",
       "2019-01-13    75                   99                 66       64  ...   \n",
       "2019-01-20    37                    0                  8       66  ...   \n",
       "2019-01-27    55                    0                 41       63  ...   \n",
       "2019-02-03    73                    0                 16       65  ...   \n",
       "\n",
       "            Nautilus  Banting  Air Canada  Westjet  DSTV  Fiber  \\\n",
       "date                                                              \n",
       "2019-01-06        97       72          68       84    45     58   \n",
       "2019-01-13       100       76          61       75    42     58   \n",
       "2019-01-20        90       75          63       74    42     54   \n",
       "2019-01-27        83       65          64       77    45     55   \n",
       "2019-02-03        78       76          63       74    49     55   \n",
       "\n",
       "            Purple Bricks  wickes  Travis Perkins  Toolstation  \n",
       "date                                                            \n",
       "2019-01-06             58      28              38           31  \n",
       "2019-01-13             73      30              40           34  \n",
       "2019-01-20             67      29              38           33  \n",
       "2019-01-27             73      28              39           33  \n",
       "2019-02-03             84      33              37           34  \n",
       "\n",
       "[5 rows x 167 columns]"
      ]
     },
     "execution_count": 39,
     "metadata": {},
     "output_type": "execute_result"
    }
   ],
   "source": [
    "result = pd.concat(dataset, axis=1)\n",
    "#result.to_csv('search_trends.csv')\n",
    "\n",
    "#Drop last row of result because it is partial\n",
    "result.drop(result.tail(1).index,inplace=True) # drop last n rows\n",
    "\n",
    "result.head()"
   ]
  },
  {
   "cell_type": "code",
   "execution_count": 40,
   "metadata": {},
   "outputs": [
    {
     "name": "stdout",
     "output_type": "stream",
     "text": [
      "done\n"
     ]
    }
   ],
   "source": [
    "#remove results where the index is equal to zero to remove flash in the pan results.\n",
    "\n",
    "for column in result:\n",
    "    if (result[column] ==0).any():\n",
    "        result.pop(column)\n",
    "print('done')"
   ]
  },
  {
   "cell_type": "code",
   "execution_count": 41,
   "metadata": {},
   "outputs": [
    {
     "name": "stdout",
     "output_type": "stream",
     "text": [
      "['Adya']\n"
     ]
    }
   ],
   "source": [
    "#identify rising trends\n",
    "upflagged = []\n",
    "for column in result:\n",
    "    if result[column].iloc[-1] - result[column].iloc[-8] >10 and result[column].iloc[-1] - result[column].iloc[-52] >20:\n",
    "        upflagged.append(column)\n",
    "    \n",
    "print(upflagged)   "
   ]
  },
  {
   "cell_type": "code",
   "execution_count": 42,
   "metadata": {},
   "outputs": [
    {
     "name": "stdout",
     "output_type": "stream",
     "text": [
      "['Online advertising', 'Purple Bricks', 'wickes', 'Toolstation']\n"
     ]
    }
   ],
   "source": [
    "#identify declining trends\n",
    "downflagged = []\n",
    "for column in result:\n",
    "    if result[column].iloc[-1] - result[column].iloc[-8] <-10 and result[column].iloc[-1] - result[column].iloc[-52] <-20:\n",
    "        downflagged.append(column)\n",
    "    \n",
    "print(downflagged)  "
   ]
  },
  {
   "cell_type": "code",
   "execution_count": 100,
   "metadata": {},
   "outputs": [],
   "source": [
    "result.to_csv('gt2.csv')"
   ]
  },
  {
   "cell_type": "code",
   "execution_count": null,
   "metadata": {},
   "outputs": [],
   "source": []
  }
 ],
 "metadata": {
  "kernelspec": {
   "display_name": "Python 3",
   "language": "python",
   "name": "python3"
  },
  "language_info": {
   "codemirror_mode": {
    "name": "ipython",
    "version": 3
   },
   "file_extension": ".py",
   "mimetype": "text/x-python",
   "name": "python",
   "nbconvert_exporter": "python",
   "pygments_lexer": "ipython3",
   "version": "3.8.4"
  }
 },
 "nbformat": 4,
 "nbformat_minor": 4
}
