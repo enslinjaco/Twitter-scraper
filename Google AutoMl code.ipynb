{
 "cells": [
  {
   "cell_type": "code",
   "execution_count": 1,
   "metadata": {},
   "outputs": [],
   "source": [
    "#Create CSV of tweet column to send to GCS\n",
    "to_predict = finaldf[['Tweet_nonstop']]\n",
    "\n",
    "to_predict.to_csv('to_predict.csv')"
   ]
  },
  {
   "cell_type": "code",
   "execution_count": null,
   "metadata": {},
   "outputs": [],
   "source": [
    "#Upload to_predict to GCS\n",
    "bucket_name = \"voorspel_bucket\"\n",
    "source_file_name = r\"C:\\Users\\ensli\\webanalytics\\to_predict.csv\"\n",
    "destination_blob_name = \"to_predict\"\n",
    "\n",
    "def upload_blob(bucket_name, source_file_name, destination_blob_name):\n",
    "    \"\"\"Uploads a file to the bucket.\"\"\"\n",
    "\n",
    "\n",
    "    storage_client = storage.Client()\n",
    "    bucket = storage_client.bucket(bucket_name)\n",
    "    blob = bucket.blob(destination_blob_name)\n",
    "\n",
    "    blob.upload_from_filename(source_file_name)\n",
    "\n",
    "    print(\n",
    "        \"File {} uploaded to {}.\".format(\n",
    "            source_file_name, destination_blob_name\n",
    "        )\n",
    "    )\n",
    "\n",
    "upload_blob(bucket_name, source_file_name, destination_blob_name)"
   ]
  },
  {
   "cell_type": "code",
   "execution_count": null,
   "metadata": {},
   "outputs": [],
   "source": [
    "file_path = \"gs://voorspel_bucket/to_predict.csv\"\n",
    "model_name = \"projects/alpine-alpha-300914/locations/us-central1/models/TST2983680932621320192\"\n",
    "\n",
    "def inline_text_payload(file_path):\n",
    "    with open(file_path, 'rb') as ff:\n",
    "        content = ff.read()\n",
    "    return {'text_snippet': {'content': content, 'mime_type': 'text/plain'} }\n",
    "\n",
    "def get_prediction(file_path, model_name):\n",
    "    options = ClientOptions(api_endpoint='automl.googleapis.com')\n",
    "    prediction_client = automl_v1.PredictionServiceClient(client_options=options)\n",
    "\n",
    "    payload = inline_text_payload(file_path)\n",
    "    \n",
    "    params = {}\n",
    "    request = prediction_client.predict(model_name, payload, params)\n",
    "    return request  # waits until request is returned\n",
    "    \n",
    "if __name__ == '__main__':\n",
    "    file_path = sys.argv[1]\n",
    "    model_name = sys.argv[2]\n",
    "\n",
    "    get_prediction(file_path, model_name)"
   ]
  },
  {
   "cell_type": "code",
   "execution_count": null,
   "metadata": {},
   "outputs": [],
   "source": [
    "project_id = \"alpine-alpha-300914\"\n",
    "model_id = \"TST2983680932621320192\"\n",
    "os.environ[\"GOOGLE_APPLICATION_CREDENTIALS\"]=\"C:/Users/ensli/webanalytics/GCloud key/apikey.json\"\n",
    "from google.cloud import automl\n",
    "content = 'wayfair is a bad company'\n",
    "prediction_client = automl_v1.PredictionServiceClient()\n",
    "\n",
    "\n",
    "\n",
    "# Get the full path of the model.\n",
    "model_full_id = automl_v1.AutoMlClient.model_path(\n",
    "    project_id, \"us-central1\", model_id\n",
    ")\n",
    "\n",
    "\n",
    "# Supported mime_types: 'text/plain', 'text/html'\n",
    "# https://cloud.google.com/automl/docs/reference/rpc/google.cloud.automl.v1#textsnippet\n",
    "text_snippet = automl_v1.TextSnippet(content=content, mime_type=\"text/plain\")\n",
    "\n",
    "payload = automl_v1.ExamplePayload(text_snippet=text_snippet)\n",
    "\n",
    "print(payload)\n",
    "response = prediction_client.predict(name=model_full_id, payload=payload)\n",
    "\n",
    "print(response)"
   ]
  },
  {
   "cell_type": "code",
   "execution_count": null,
   "metadata": {},
   "outputs": [],
   "source": [
    "model_name= \"projects/alpine-alpha-300914/locations/us-central1/models/TST2983680932621320192\"\n",
    "content = 'SA to ban aclhocol sales'\n",
    "project_id = \"alpine-alpha-300914\"\n",
    "model_id = \"TST2983680932621320192\"\n",
    "model_full_id = automl_v1.AutoMlClient.model_path(\n",
    "    project_id, \"us-central1\", model_id\n",
    ")\n",
    "\n",
    "\n",
    "def get_prediction(content, model_full_id):\n",
    "    options = ClientOptions(api_endpoint='automl.googleapis.com')\n",
    "    prediction_client = automl_v1.PredictionServiceClient(client_options=options)\n",
    "    \n",
    "    text_snippet = automl_v1.TextSnippet(content=content, mime_type=\"text/plain\")\n",
    "\n",
    "    payload = automl_v1.ExamplePayload(text_snippet=text_snippet)\n",
    "  # Uncomment the following line (and comment the above line) if want to predict on PDFs.\n",
    "  # payload = pdf_payload(file_path)\n",
    "\n",
    "    params = {}\n",
    "    request = prediction_client.predict(name=model_full_id, payload=payload)\n",
    "    return request  # waits until request is returned\n",
    "\n",
    "get_prediction(content, model_full_id)"
   ]
  },
  {
   "cell_type": "code",
   "execution_count": null,
   "metadata": {},
   "outputs": [],
   "source": [
    "model_full_id = automl_v1.AutoMlClient.model_path(project_id, \"us-central1\", model_id)\n",
    "\n",
    "finaldf2['tweet_sentiment'] = finaldf2['Tweet_punct'].apply(lambda row: get_prediction(row, model_full_id))"
   ]
  }
 ],
 "metadata": {
  "kernelspec": {
   "display_name": "Python 3",
   "language": "python",
   "name": "python3"
  },
  "language_info": {
   "codemirror_mode": {
    "name": "ipython",
    "version": 3
   },
   "file_extension": ".py",
   "mimetype": "text/x-python",
   "name": "python",
   "nbconvert_exporter": "python",
   "pygments_lexer": "ipython3",
   "version": "3.8.4"
  }
 },
 "nbformat": 4,
 "nbformat_minor": 4
}
